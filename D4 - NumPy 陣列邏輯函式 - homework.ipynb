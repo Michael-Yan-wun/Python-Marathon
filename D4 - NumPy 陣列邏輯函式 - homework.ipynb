{
 "cells": [
  {
   "cell_type": "markdown",
   "metadata": {},
   "source": [
    "#### 題目：\n",
    "\n",
    "#### english_score = np.array([55,89,76,65,48,70])\n",
    "#### math_score = np.array([60,85,60,68,55,60])\n",
    "#### chinese_score = np.array([65,90,82,72,66,77])\n",
    "\n",
    "#### 上 3 列共六位同學的英文、數學、國文成績，第一個元素代表第一位同學，舉例第一位同學英文 55 分、數學 60 分、國文 65 分，運用上列數據回答下列問題。\n",
    "\n",
    "#### 有多少學生英文成績比數學成績高？\n",
    "#### 是否全班同學最高分都是國文？"
   ]
  },
  {
   "cell_type": "code",
   "execution_count": 6,
   "metadata": {},
   "outputs": [],
   "source": [
    "import numpy as np\n",
    "english_score = np.array([55,89,76,65,48,70])\n",
    "math_score = np.array([60,85,60,68,55,60])\n",
    "chinese_score = np.array([65,90,82,72,66,77])"
   ]
  },
  {
   "cell_type": "code",
   "execution_count": 9,
   "metadata": {},
   "outputs": [
    {
     "name": "stdout",
     "output_type": "stream",
     "text": [
      "有3個學生英文成績比數學高\n"
     ]
    }
   ],
   "source": [
    "#1.有多少學生英文成績比數學成績高?\n",
    "count = 0\n",
    "for result in np.greater(english_score,math_score):\n",
    "    if(result == True):\n",
    "        count+=1\n",
    "print('有{}個學生英文成績比數學高'.format(count))"
   ]
  },
  {
   "cell_type": "code",
   "execution_count": 15,
   "metadata": {},
   "outputs": [
    {
     "name": "stdout",
     "output_type": "stream",
     "text": [
      "是！！全班同學最高分都是國文!\n"
     ]
    }
   ],
   "source": [
    "#2.是否全班同學最高分都是國文?\n",
    "a = np.greater(chinese_score,math_score)\n",
    "b = np.greater(chinese_score,english_score)\n",
    "if(np.all(np.logical_and(a,b)) == True):\n",
    "    print('是！！全班同學最高分都是國文!')\n",
    "else:\n",
    "    print('不是！！並非最高都是國文！')"
   ]
  }
 ],
 "metadata": {
  "kernelspec": {
   "display_name": "Python 3",
   "language": "python",
   "name": "python3"
  },
  "language_info": {
   "codemirror_mode": {
    "name": "ipython",
    "version": 3
   },
   "file_extension": ".py",
   "mimetype": "text/x-python",
   "name": "python",
   "nbconvert_exporter": "python",
   "pygments_lexer": "ipython3",
   "version": "3.8.6"
  }
 },
 "nbformat": 4,
 "nbformat_minor": 4
}
