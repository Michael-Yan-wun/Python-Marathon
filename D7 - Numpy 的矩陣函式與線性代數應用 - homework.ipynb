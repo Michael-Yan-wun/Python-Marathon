{
 "cells": [
  {
   "cell_type": "code",
   "execution_count": null,
   "metadata": {},
   "outputs": [],
   "source": [
    "# 作業目標\n",
    "# 活用矩陣運算，實做線性代數\n",
    "# 作業重點\n",
    "# 線性代數公式應用\n",
    "# 矩陣相乘維度需要對好，例如:2X3矩陣乘上3X5矩陣得到2X5矩陣\n",
    "\n",
    "# 題目:\n",
    "# array1 = np.array([[10, 8], [3, 5]]) \n",
    "\n",
    "# 運用上列array計算反矩陣，乘上原矩陣，並觀察是否為單位矩陣?\n",
    "# 運用上列array計算特徵值、特徵向量?\n",
    "# 運用上列array計算SVD?"
   ]
  },
  {
   "cell_type": "code",
   "execution_count": 2,
   "metadata": {},
   "outputs": [],
   "source": [
    "import numpy as np"
   ]
  },
  {
   "cell_type": "code",
   "execution_count": 16,
   "metadata": {},
   "outputs": [
    {
     "name": "stdout",
     "output_type": "stream",
     "text": [
      "array1的反矩陣為:\n",
      "[[ 0.19230769 -0.30769231]\n",
      " [-0.11538462  0.38461538]]\n",
      "--------------------\n",
      "array1與反矩陣相乘結果為:\n",
      "[[1. 0.]\n",
      " [0. 1.]]\n",
      "--------------------\n",
      "結果：是單位矩陣！\n"
     ]
    }
   ],
   "source": [
    "#1. 運用上列array計算反矩陣，乘上原矩陣，並觀察是否為單位矩陣?\n",
    "array1 = np.array([[10, 8], [3, 5]])\n",
    "# 反矩陣\n",
    "inverse_array1 = np.linalg.inv(array1)\n",
    "#相乘後的結果\n",
    "result_array1 = np.matmul(array1,inverse_array1)\n",
    "\n",
    "print('array1的反矩陣為:\\n{}'.format(inverse_array1))\n",
    "print('-'*20)\n",
    "print('array1與反矩陣相乘結果為:\\n{}'.format(result_array1))\n",
    "print('-'*20)\n",
    "print('結果：是單位矩陣！')"
   ]
  },
  {
   "cell_type": "code",
   "execution_count": 18,
   "metadata": {},
   "outputs": [
    {
     "name": "stdout",
     "output_type": "stream",
     "text": [
      "array1的特徵值為：\n",
      "[13.  2.]\n",
      "--------------------\n",
      "array1的特徵向量為：\n",
      "[[ 0.93632918 -0.70710678]\n",
      " [ 0.35112344  0.70710678]]\n"
     ]
    }
   ],
   "source": [
    "#2. 運用上列array計算特徵值、特徵向量?\n",
    "w,v = np.linalg.eig(array1)\n",
    "print('array1的特徵值為：\\n{}'.format(w))\n",
    "print('-'*20)\n",
    "print('array1的特徵向量為：\\n{}'.format(v))"
   ]
  },
  {
   "cell_type": "code",
   "execution_count": 22,
   "metadata": {},
   "outputs": [
    {
     "name": "stdout",
     "output_type": "stream",
     "text": [
      "u:\n",
      " [[-0.91663818 -0.39971796]\n",
      " [-0.39971796  0.91663818]]\n",
      "--------------------\n",
      "s:\n",
      " [13.94721714  1.86417116]\n",
      "--------------------\n",
      "vh:\n",
      " [[-0.74319741 -0.6690722 ]\n",
      " [-0.6690722   0.74319741]]\n"
     ]
    }
   ],
   "source": [
    "#3. 運用上列array計算SVD?\n",
    "u, s , vh = np.linalg.svd(array1)\n",
    "print('u:\\n',u)\n",
    "print('-'*20)\n",
    "print('s:\\n',s)\n",
    "print('-'*20)\n",
    "print('vh:\\n',vh)"
   ]
  }
 ],
 "metadata": {
  "kernelspec": {
   "display_name": "Python 3",
   "language": "python",
   "name": "python3"
  },
  "language_info": {
   "codemirror_mode": {
    "name": "ipython",
    "version": 3
   },
   "file_extension": ".py",
   "mimetype": "text/x-python",
   "name": "python",
   "nbconvert_exporter": "python",
   "pygments_lexer": "ipython3",
   "version": "3.8.6"
  }
 },
 "nbformat": 4,
 "nbformat_minor": 4
}
