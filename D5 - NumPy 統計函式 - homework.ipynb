{
 "cells": [
  {
   "cell_type": "markdown",
   "metadata": {},
   "source": [
    "#### 題目:\n",
    "#### english_score = np.array([55,89,76,65,48,70])\n",
    "#### math_score = np.array([60,85,60,68,np.nan,60])\n",
    "#### chinese_score = np.array([65,90,82,72,66,77])\n",
    "#### 上3列共六位同學的英文、數學、國文成績，第一個元素代表第一位同學，舉例第一位同學英文55分、數學60分、國文65分，今天第五位同學因某原因沒來考試，導致數學成績缺值，運用上列數據回答下列問題。\n",
    "\n",
    "#### 請計算各科成績平均、最大值、最小值、標準差，其中數學缺一筆資料可忽略?\n",
    "#### 第五位同學補考數學後成績為55，請計算補考後數學成績平均、最大值、最小值、標準差?\n",
    "#### 用補考後資料找出與國文成績相關係數最高的學科?"
   ]
  },
  {
   "cell_type": "code",
   "execution_count": 1,
   "metadata": {},
   "outputs": [],
   "source": [
    "import numpy as np"
   ]
  },
  {
   "cell_type": "code",
   "execution_count": 2,
   "metadata": {},
   "outputs": [],
   "source": [
    "english_score = np.array([55,89,76,65,48,70])\n",
    "math_score = np.array([60,85,60,68,np.nan,60])\n",
    "chinese_score = np.array([65,90,82,72,66,77])"
   ]
  },
  {
   "cell_type": "code",
   "execution_count": 26,
   "metadata": {},
   "outputs": [
    {
     "name": "stdout",
     "output_type": "stream",
     "text": [
      "各科平均成績如下：\n",
      "『英文』成績平均為:67.16666666666667分\n",
      "『數學』成績平均為:nan分\n",
      "『中文』成績平均為:75.33333333333333分\n",
      "--------------------------------------------------\n",
      "各科最大值如下：\n",
      "『英文』成績最大值為:89分\n",
      "『數學』成績最大值為:85.0分\n",
      "『中文』成績最大值為:90分\n",
      "--------------------------------------------------\n",
      "各科最小值如下：\n",
      "『英文』成績最小值為:48分\n",
      "『數學』成績最小值為:60.0分\n",
      "『中文』成績最小值為:65分\n",
      "--------------------------------------------------\n",
      "各科標準差如下：\n",
      "『英文』成績標準差為:13.433995020924426分\n",
      "『數學』成績標準差為:nan分\n",
      "『中文』成績標準差為:8.825468196582484分\n"
     ]
    }
   ],
   "source": [
    "#1. 請計算各科成績平均、最大值、最小值、標準差，其中數學缺一筆資料可忽略?\n",
    "print('各科平均成績如下：')\n",
    "print('『英文』成績平均為:{}分'.format(np.mean(english_score)))\n",
    "print('『數學』成績平均為:{}分'.format(np.nanmean(math_score)))\n",
    "print('『中文』成績平均為:{}分'.format(np.mean(chinese_score)))\n",
    "print('-'*50)\n",
    "print('各科最大值如下：')\n",
    "print('『英文』成績最大值為:{}分'.format(np.nanmax(english_score)))\n",
    "print('『數學』成績最大值為:{}分'.format(np.nanmax(math_score)))\n",
    "print('『中文』成績最大值為:{}分'.format(np.nanmax(chinese_score)))\n",
    "print('-'*50)\n",
    "print('各科最小值如下：')\n",
    "print('『英文』成績最小值為:{}分'.format(np.nanmin(english_score)))\n",
    "print('『數學』成績最小值為:{}分'.format(np.nanmin(math_score)))\n",
    "print('『中文』成績最小值為:{}分'.format(np.nanmin(chinese_score)))\n",
    "print('-'*50)\n",
    "print('各科標準差如下：')\n",
    "print('『英文』成績標準差為:{}分'.format(np.std(english_score)))\n",
    "print('『數學』成績標準差為:{}分'.format(np.nanstd(math_score)))\n",
    "print('『中文』成績標準差為:{}分'.format(np.std(chinese_score)))"
   ]
  },
  {
   "cell_type": "code",
   "execution_count": 36,
   "metadata": {},
   "outputs": [
    {
     "name": "stdout",
     "output_type": "stream",
     "text": [
      "各科平均成績如下：\n",
      "『英文』成績平均為:67.16666666666667分\n",
      "『數學』成績平均為:64.66666666666667分\n",
      "『中文』成績平均為:75.33333333333333分\n",
      "--------------------------------------------------\n",
      "各科最大值如下：\n",
      "『英文』成績最大值為:89分\n",
      "『數學』成績最大值為:85分\n",
      "『中文』成績最大值為:90分\n",
      "--------------------------------------------------\n",
      "各科最小值如下：\n",
      "『英文』成績最小值為:48分\n",
      "『數學』成績最小值為:55分\n",
      "『中文』成績最小值為:65分\n",
      "--------------------------------------------------\n",
      "各科標準差如下：\n",
      "『英文』成績標準差為:13.433995020924426分\n",
      "『數學』成績標準差為:9.860132971832694分\n",
      "『中文』成績標準差為:8.825468196582484分\n"
     ]
    }
   ],
   "source": [
    "#2. 第五位同學補考數學後成績為55，請計算補考後數學成績平均、最大值、最小值、標準差?\n",
    "math_score = np.array([60,85,60,68,55,60])\n",
    "print('各科平均成績如下：')\n",
    "print('『英文』成績平均為:{}分'.format(np.mean(english_score)))\n",
    "print('『數學』成績平均為:{}分'.format(np.mean(math_score)))\n",
    "print('『中文』成績平均為:{}分'.format(np.mean(chinese_score)))\n",
    "print('-'*50)\n",
    "print('各科最大值如下：')\n",
    "print('『英文』成績最大值為:{}分'.format(np.max(english_score)))\n",
    "print('『數學』成績最大值為:{}分'.format(np.max(math_score)))\n",
    "print('『中文』成績最大值為:{}分'.format(np.max(chinese_score)))\n",
    "print('-'*50)\n",
    "print('各科最小值如下：')\n",
    "print('『英文』成績最小值為:{}分'.format(np.min(english_score)))\n",
    "print('『數學』成績最小值為:{}分'.format(np.min(math_score)))\n",
    "print('『中文』成績最小值為:{}分'.format(np.min(chinese_score)))\n",
    "print('-'*50)\n",
    "print('各科標準差如下：')\n",
    "print('『英文』成績標準差為:{}分'.format(np.std(english_score)))\n",
    "print('『數學』成績標準差為:{}分'.format(np.std(math_score)))\n",
    "print('『中文』成績標準差為:{}分'.format(np.std(chinese_score)))"
   ]
  },
  {
   "cell_type": "code",
   "execution_count": 40,
   "metadata": {},
   "outputs": [
    {
     "name": "stdout",
     "output_type": "stream",
     "text": [
      "[[1.         0.74056803]\n",
      " [0.74056803 1.        ]]\n",
      "[[1.         0.97792828]\n",
      " [0.97792828 1.        ]]\n",
      "Ans:英文與國文的相關係數最高\n"
     ]
    }
   ],
   "source": [
    "#3. 用補考後資料找出與國文成績相關係數最高的學科?\n",
    "print(np.corrcoef(chinese_score,math_score))\n",
    "print(np.corrcoef(chinese_score,english_score))\n",
    "print('Ans:英文與國文的相關係數最高')"
   ]
  }
 ],
 "metadata": {
  "kernelspec": {
   "display_name": "Python 3",
   "language": "python",
   "name": "python3"
  },
  "language_info": {
   "codemirror_mode": {
    "name": "ipython",
    "version": 3
   },
   "file_extension": ".py",
   "mimetype": "text/x-python",
   "name": "python",
   "nbconvert_exporter": "python",
   "pygments_lexer": "ipython3",
   "version": "3.8.6"
  }
 },
 "nbformat": 4,
 "nbformat_minor": 4
}
