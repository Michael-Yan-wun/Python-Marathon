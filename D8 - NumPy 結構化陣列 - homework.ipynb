{
 "cells": [
  {
   "cell_type": "code",
   "execution_count": null,
   "id": "incorporate-builder",
   "metadata": {},
   "outputs": [],
   "source": [
    "# 作業目標\n",
    "# 在一個陣列中放入多屬性陣列，進一步對陣列做運算\n",
    "# 作業重點\n",
    "# 在建立結構化陣列前需要先設定屬性，在做運算時須注意資料屬性\n",
    "\n",
    "# 題目:\n",
    "# name_list = ['小明','小華','小菁','小美','小張','John','Mark','Tom']\n",
    "# sex_list = ['boy','boy','girl','girl','boy','boy','boy','boy']\n",
    "# weight_list = [67.5,75.3,50.1,45.5,80.8,90.4,78.4,70.7]\n",
    "# rank_list = [8,1,5,4,7,6,2,3]\n",
    "# myopia_list = [True,True,False,False,True,True,False,False]\n",
    "\n",
    "# 將上列list依照['name', 'sex', 'weight', 'rank', 'myopia']順序擺入array，並且資料型態順序擺入[Unicode,Unicode,float,int,boolean]\n",
    "# 呈上題，將array中體重(weight)數據集取出算出全部平均體重\n",
    "# 呈上題，進一步算出男生(sex欄位是boy)平均體重、女生(sex欄位是girl)平均體重"
   ]
  },
  {
   "cell_type": "code",
   "execution_count": 1,
   "id": "induced-cleanup",
   "metadata": {},
   "outputs": [],
   "source": [
    "import numpy as np \n",
    "name_list = ['小明','小華','小菁','小美','小張','John','Mark','Tom']\n",
    "sex_list = ['boy','boy','girl','girl','boy','boy','boy','boy']\n",
    "weight_list = [67.5,75.3,50.1,45.5,80.8,90.4,78.4,70.7]\n",
    "rank_list = [8,1,5,4,7,6,2,3]\n",
    "myopia_list = [True,True,False,False,True,True,False,False]"
   ]
  },
  {
   "cell_type": "code",
   "execution_count": 14,
   "id": "digital-colombia",
   "metadata": {},
   "outputs": [
    {
     "name": "stdout",
     "output_type": "stream",
     "text": [
      "[('小明', 'boy', 67.5, 8,  True) ('小華', 'boy', 75.3, 1,  True)\n",
      " ('小菁', 'girl', 50.1, 5, False) ('小美', 'girl', 45.5, 4, False)\n",
      " ('小張', 'boy', 80.8, 7,  True) ('John', 'boy', 90.4, 6,  True)\n",
      " ('Mark', 'boy', 78.4, 2, False) ('Tom', 'boy', 70.7, 3, False)]\n"
     ]
    }
   ],
   "source": [
    "#1. 將上列list依照['name', 'sex', 'weight', 'rank', 'myopia']順序擺入array，\n",
    "#  並且資料型態順序擺入[Unicode,Unicode,float,int,boolean]\n",
    "dt = np.dtype({'names':('name','sex','weight','rank','myopia'),'formats':('U5','U5',float,int,bool)})\n",
    "c = np.zeros(len(name_list), dtype=dt)\n",
    "c['name'] = name_list\n",
    "c['sex'] = sex_list\n",
    "c['weight'] = weight_list\n",
    "c['rank'] = rank_list\n",
    "c['myopia'] = myopia_list\n",
    "print(c)"
   ]
  },
  {
   "cell_type": "code",
   "execution_count": 17,
   "id": "prime-slovak",
   "metadata": {},
   "outputs": [
    {
     "name": "stdout",
     "output_type": "stream",
     "text": [
      "全班體重為:69.8375\n"
     ]
    }
   ],
   "source": [
    "#2. 呈上題，將array中體重(weight)數據集取出算出全部平均體重\n",
    "w = c['weight']\n",
    "print('全班體重為:{}'.format(np.average(w)))"
   ]
  },
  {
   "cell_type": "code",
   "execution_count": 22,
   "id": "trying-people",
   "metadata": {},
   "outputs": [
    {
     "name": "stdout",
     "output_type": "stream",
     "text": [
      "全班男生的平均體重為：77.18333333333332\n"
     ]
    }
   ],
   "source": [
    "#3. 呈上題，進一步算出男生(sex欄位是boy)平均體重\n",
    "w_boy = c['weight'][np.where(c['sex'] == 'boy')]\n",
    "print('全班男生的平均體重為：{}'.format(np.average(w_boy)))"
   ]
  },
  {
   "cell_type": "code",
   "execution_count": 23,
   "id": "prostate-dutch",
   "metadata": {},
   "outputs": [
    {
     "name": "stdout",
     "output_type": "stream",
     "text": [
      "全班女生的平均體重為：47.8\n"
     ]
    }
   ],
   "source": [
    "#4. 呈上題，進一步算出女生(sex欄位是girl)平均體重\n",
    "w_girl = c['weight'][np.where(c['sex'] == 'girl')]\n",
    "print('全班女生的平均體重為：{}'.format(np.average(w_girl)))"
   ]
  }
 ],
 "metadata": {
  "kernelspec": {
   "display_name": "Python 3",
   "language": "python",
   "name": "python3"
  },
  "language_info": {
   "codemirror_mode": {
    "name": "ipython",
    "version": 3
   },
   "file_extension": ".py",
   "mimetype": "text/x-python",
   "name": "python",
   "nbconvert_exporter": "python",
   "pygments_lexer": "ipython3",
   "version": "3.8.6"
  }
 },
 "nbformat": 4,
 "nbformat_minor": 5
}
