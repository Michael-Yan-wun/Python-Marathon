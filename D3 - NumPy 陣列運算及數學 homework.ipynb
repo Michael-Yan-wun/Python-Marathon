{
 "cells": [
  {
   "cell_type": "markdown",
   "metadata": {},
   "source": [
    "### 題目:\n",
    "### 運用投影片中的分貝公式回答下列問題。\n",
    "### 1.正常的談話的聲壓為20000微巴斯卡，請問多少分貝?\n",
    "### 2.30分貝的聲壓會是50分貝的幾倍?"
   ]
  },
  {
   "cell_type": "code",
   "execution_count": 1,
   "metadata": {},
   "outputs": [],
   "source": [
    "import numpy as np "
   ]
  },
  {
   "cell_type": "code",
   "execution_count": 6,
   "metadata": {},
   "outputs": [
    {
     "name": "stdout",
     "output_type": "stream",
     "text": [
      "計算結果為：60.0分貝\n"
     ]
    }
   ],
   "source": [
    "#1.正常的談話的聲壓為20000微巴斯卡，請問多少分貝?\n",
    "#請寫下程式\n",
    "V1 = 20000\n",
    "V0 = 20\n",
    "G = 20 * np.log10(V1/V0)\n",
    "print('計算結果為：{}分貝'.format(G))"
   ]
  },
  {
   "cell_type": "code",
   "execution_count": 18,
   "metadata": {},
   "outputs": [
    {
     "name": "stdout",
     "output_type": "stream",
     "text": [
      "30分貝的聲壓是50分貝的『0.36787944117144233』倍\n"
     ]
    }
   ],
   "source": [
    "#2. 30分貝的聲壓會是50分貝的幾倍?\n",
    "#請寫下程式\n",
    "G1 = 30\n",
    "G2 = 50\n",
    "# 經過移項V0會消除\n",
    "result = np.exp((30-50)/20)\n",
    "print(\"30分貝的聲壓是50分貝的『{}』倍\".format(result))"
   ]
  }
 ],
 "metadata": {
  "kernelspec": {
   "display_name": "Python 3",
   "language": "python",
   "name": "python3"
  },
  "language_info": {
   "codemirror_mode": {
    "name": "ipython",
    "version": 3
   },
   "file_extension": ".py",
   "mimetype": "text/x-python",
   "name": "python",
   "nbconvert_exporter": "python",
   "pygments_lexer": "ipython3",
   "version": "3.8.6"
  }
 },
 "nbformat": 4,
 "nbformat_minor": 4
}
