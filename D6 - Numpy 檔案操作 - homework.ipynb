{
 "cells": [
  {
   "cell_type": "markdown",
   "metadata": {},
   "source": [
    "#### 作業目標\n",
    "#### 讀取存取陣列資料\n",
    "#### 作業重點\n",
    "#### 多陣列存一起需要存成npz，讀取須注意npz中有多個陣列\n",
    "\n",
    "#### 題目:\n",
    "\n",
    "#### 將下兩列array存成npz檔\n",
    "#### array1 = np.array(range(30))\n",
    "#### array2 = np.array([2,3,5])\n",
    "#### 讀取剛剛的npz檔，加入下列array一起存成新的npz檔\n",
    "#### 1. 將下兩列array存成npz檔\n",
    "#### array1 = np.array(range(30))\n",
    "#### array2 = np.array([2,3,5])\n",
    "#### 2. 讀取剛剛的npz檔，加入下列array一起存成新的npz檔"
   ]
  },
  {
   "cell_type": "code",
   "execution_count": 4,
   "metadata": {},
   "outputs": [],
   "source": [
    "import numpy as np"
   ]
  },
  {
   "cell_type": "code",
   "execution_count": 6,
   "metadata": {},
   "outputs": [],
   "source": [
    "array1 = np.array(range(30))\n",
    "array2 = np.array([2,3,5])\n",
    "\n",
    "with open('D06homework.npz', 'wb') as f:\n",
    "    np.savez(f, array1=array1, array2=array2)"
   ]
  },
  {
   "cell_type": "code",
   "execution_count": 7,
   "metadata": {},
   "outputs": [
    {
     "data": {
      "text/plain": [
       "['array1', 'array2']"
      ]
     },
     "execution_count": 7,
     "metadata": {},
     "output_type": "execute_result"
    }
   ],
   "source": [
    "npzfile = np.load('D06homework.npz')\n",
    "print(npzfile['array1'])\n",
    "print(npzfile['array'])"
   ]
  },
  {
   "cell_type": "code",
   "execution_count": null,
   "metadata": {},
   "outputs": [],
   "source": []
  }
 ],
 "metadata": {
  "kernelspec": {
   "display_name": "Python 3",
   "language": "python",
   "name": "python3"
  },
  "language_info": {
   "codemirror_mode": {
    "name": "ipython",
    "version": 3
   },
   "file_extension": ".py",
   "mimetype": "text/x-python",
   "name": "python",
   "nbconvert_exporter": "python",
   "pygments_lexer": "ipython3",
   "version": "3.8.6"
  }
 },
 "nbformat": 4,
 "nbformat_minor": 4
}
